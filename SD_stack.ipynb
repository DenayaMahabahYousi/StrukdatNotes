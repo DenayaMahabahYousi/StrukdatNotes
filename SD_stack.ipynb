{
 "cells": [
  {
   "cell_type": "markdown",
   "metadata": {
    "collapsed": false
   },
   "source": [
    "# Struktur Data"
   ]
  },
  {
   "cell_type": "markdown",
   "metadata": {
    "collapsed": false
   },
   "source": [
    "## Jenis Struktur Data\n",
    "\n",
    "Linear Structure terdiri dari:\n",
    "* Stacks (tumpukan)\n",
    "* Queues (antrian)\n",
    "* List"
   ]
  },
  {
   "cell_type": "markdown",
   "metadata": {
    "collapsed": false
   },
   "source": [
    "### Stacks\n",
    "\n",
    "Stack(tumpukan) merupakan list linier yang berisi deretan data-data. Elemen yang paling atas disebut dengan top. Prinsip dari stack adalah LIFO (Last In First Out), yaitu data yang terakhir masuk adalah data yang pertama kali keluar.\n",
    "\n",
    "Terdapat beberapa method yang digunakan dalam stack, antara lain:\n",
    "* stack() untuk inisialisasi stack kosong\n",
    "* push(data) untuk penambahan data baru pada posisi top of the stack\n",
    "* pop() untuk penghapusan data yang terdapat pada top of the stack\n",
    "* peek() untuk mengecek atau menampilkan data yang terdapat pada top of the stack\n",
    "* isEmpty() untuk mengecek apakah stack itu kosong\n",
    "* size() untuk mengetahui jumlah elemen dalam stack"
   ]
  },
  {
   "cell_type": "code",
   "execution_count": 2,
   "metadata": {
    "collapsed": false
   },
   "outputs": [
   ],
   "source": [
    "def stack():\n",
    "    s=[]\n",
    "    return (s)\n",
    "\n",
    "def push(s, data):\n",
    "    s.append(data)\n",
    "\n",
    "def pop(s):\n",
    "    data=s.pop()\n",
    "    return(data)\n",
    "\n",
    "def peek(s):\n",
    "    return (s[len(s)-1])\n",
    "\n",
    "def isEmpty(s):\n",
    "    return (s==[])\n",
    "\n",
    "def size(s):\n",
    "    return (len(s))"
   ]
  },
  {
   "cell_type": "markdown",
   "metadata": {
    "collapsed": false
   },
   "source": [
    "membuat fungsi reverse word menggunakan stack"
   ]
  },
  {
   "cell_type": "code",
   "execution_count": 3,
   "metadata": {
    "collapsed": false
   },
   "outputs": [
    {
     "name": "stdout",
     "output_type": "stream",
     "text": [
      "rutkurtS\n"
     ]
    }
   ],
   "source": [
    "def reverse(s):\n",
    "    a=stack()\n",
    "    hasil=''\n",
    "    for i in range (len(s)):\n",
    "        push(a,s[i])\n",
    "    for i in range (len(s)):   \n",
    "        hasil=hasil+pop(a)\n",
    "    return hasil\n",
    "\n",
    "print(reverse('Struktur'))"
   ]
  },
  {
   "cell_type": "markdown",
   "metadata": {
    "collapsed": false
   },
   "source": [
    "##### Delimiter Matching\n",
    "\n",
    "Untuk mengecek apakah sebuah operasi menggunakan tanda kurung dengan benar atau sesuai dengan ketentuan.\n",
    "* Jumlah kurung buka harus sama dengan jumlah kurung tutup\n",
    "* Jenis kurung harus sama/sesuai/matching"
   ]
  },
  {
   "cell_type": "code",
   "execution_count": 4,
   "metadata": {
    "collapsed": false
   },
   "outputs": [
    {
     "name": "stdout",
     "output_type": "stream",
     "text": [
      "(False, 'kelebihan kurung tutup')\n"
     ]
    }
   ],
   "source": [
    "def delimiter(operasi):\n",
    "    st=stack()\n",
    "    for i in range (len(operasi)):\n",
    "        if operasi[i]=='(':\n",
    "            push(st,operasi[i])\n",
    "        elif (operasi[i]==')') and (not(isEmpty(st))):\n",
    "            pop(st)\n",
    "        elif (operasi[i]==')') and (isEmpty(st)):\n",
    "            push(st,operasi[i])\n",
    "            ket='kelebihan kurung tutup'\n",
    "        else:\n",
    "            ket='kelebihan kurung buka'\n",
    "    if isEmpty(st):\n",
    "        return True\n",
    "    else:\n",
    "        return False, ket\n",
    "\n",
    "print(delimiter('3*(5+4))'))"
   ]
  },
  {
   "cell_type": "code",
   "execution_count": 5,
   "metadata": {
    "collapsed": false
   },
   "outputs": [
    {
     "name": "stdout",
     "output_type": "stream",
     "text": [
      "(False, 'kelebihan kurung buka')\n"
     ]
    }
   ],
   "source": [
    "print(delimiter('(3*(5+4)'))"
   ]
  },
  {
   "cell_type": "code",
   "execution_count": 6,
   "metadata": {
    "collapsed": false
   },
   "outputs": [
    {
     "name": "stdout",
     "output_type": "stream",
     "text": [
      "True\n"
     ]
    }
   ],
   "source": [
    "print(delimiter('3*(5+4)'))"
   ]
  },
  {
   "cell_type": "markdown",
   "metadata": {
    "collapsed": false
   },
   "source": [
    "#### Konversi Angka Biner\n",
    "\n",
    "* *Menkonversi angka desimal ke biner menggunakan stack*"
   ]
  },
  {
   "cell_type": "code",
   "execution_count": 8,
   "metadata": {
    "collapsed": false
   },
   "outputs": [
    {
     "name": "stdout",
     "output_type": "stream",
     "text": [
      "101\n"
     ]
    }
   ],
   "source": [
    "def biner(angka):\n",
    "    st=stack()\n",
    "    hasil=''\n",
    "    if angka==0:\n",
    "        hasil=str(angka)\n",
    "    while angka>0:\n",
    "        push(st,angka%2)\n",
    "        angka=angka//2\n",
    "    while (not(isEmpty(st))):\n",
    "        hasil+=str(pop(st))\n",
    "    return hasil\n",
    "\n",
    "print(biner(5))"
   ]
  },
  {
   "cell_type": "markdown",
   "metadata": {
    "collapsed": false
   },
   "source": [
    "* *Menkonversi angka desimal ke okta menggunakan stack*"
   ]
  },
  {
   "cell_type": "code",
   "execution_count": 12,
   "metadata": {
    "collapsed": false
   },
   "outputs": [
    {
     "name": "stdout",
     "output_type": "stream",
     "text": [
      "14\n"
     ]
    }
   ],
   "source": [
    "def okta(angka):\n",
    "    st=stack()\n",
    "    hasil=''\n",
    "    if angka==0:\n",
    "        hasil=str(angka)\n",
    "    while angka>0:\n",
    "        push(st,angka%8)\n",
    "        angka=angka//8\n",
    "    while not(isEmpty(st)):\n",
    "        hasil+=str(pop(st))\n",
    "    return hasil\n",
    "\n",
    "print(okta(12))"
   ]
  },
  {
   "cell_type": "markdown",
   "metadata": {
    "collapsed": false
   },
   "source": [
    "#### Ekspresi Aritmatik Infix, Prefix, dan Postfix\n",
    "\n",
    "Dalam sebuah operasi terdapat operan, operator, serta tanda kurung.\n",
    "* *Infix* yaitu operasi yang operatornya terdapat diantara dua operan\n",
    "* *Prefix* yaitu operatornya terletak sebelum dua buah operan\n",
    "* *Postfix* yaitu operatornya terletak sesudah dua buah operan\n",
    "\n",
    "\n",
    "contoh:\n",
    "* infix : A*B+C\n",
    "* prefix: +*ABC\n",
    "* postfix: AB*C+"
   ]
  },
  {
   "cell_type": "markdown",
   "metadata": {
    "collapsed": false
   },
   "source": [
    "##### Konversi ke Postfix"
   ]
  },
  {
   "cell_type": "markdown",
   "metadata": {
    "collapsed": false
   },
   "source": [
    "1. Buat stack untuk menampung operator\n",
    "2. Baca karater mulai dari awal sampai akhir.\n",
    "    * jika yang dibaca adalah operan maka langsung dikeluarkan ke output\n",
    "    * jika yang dibaca adalah tanda kurung:\n",
    "        * kurung buka: push ke dalam stack operator\n",
    "        * kurung tutup: pop semua operator dalam stack yang terdapat di atas kurung buka ke output (jika sudah bertemu dengan kurung buka lakukan pop)\n",
    "    * jika yang dibaca adalah operator:\n",
    "        * lowPre (- +): \n",
    "            * jika *stack tidak kosong* lakukan pop ke output untuk semua operator (yang derajatnya lebih tinggi atau sama) dalam stack yang tedapat di atas kurung buka, kemudian push\n",
    "            * jika *stack kosong* lakukan push \n",
    "        * highPre (* /):\n",
    "            * jika *stack kosong* lakukan push\n",
    "            * jika *stack tidak kosong* lakukan pop operator yang derajatnya lebih tinggi atau sama (yang terdapat di atas kurung buka ke output), kemudian push\n",
    "3. Keluarkan semua yang ada di stack operator ke dalam output"
   ]
  },
  {
   "cell_type": "code",
   "execution_count": 10,
   "metadata": {
    "collapsed": false
   },
   "outputs": [
    {
     "name": "stdout",
     "output_type": "stream",
     "text": [
      "AB+CD-*\n"
     ]
    }
   ],
   "source": [
    "def postfix(infix):\n",
    "    highPre='*/'\n",
    "    lowPre='-+'\n",
    "    opr=highPre+lowPre\n",
    "    output=''\n",
    "    operator=stack()\n",
    "    for i in infix:\n",
    "        if i in lowPre:\n",
    "            if isEmpty(operator):\n",
    "                push(operator,i)\n",
    "            else:\n",
    "                temp=peek(operator)\n",
    "                while (temp in opr) and not(isEmpty(operator)):\n",
    "                    output+=(pop(operator))\n",
    "                push(operator,i)\n",
    "        elif i in highPre:\n",
    "            if isEmpty(operator):\n",
    "                push(operator,i)\n",
    "            else:\n",
    "                temp=peek(operator)\n",
    "                while (temp in highPre) and not(isEmpty(operator)):\n",
    "                    output+=(pop(operator))\n",
    "                push(operator,i)\n",
    "        elif (i=='('):\n",
    "            push(operator,'(')\n",
    "        elif (i==')'):\n",
    "            while not(isEmpty(operator)) and (peek(operator)!='('):\n",
    "                output+=(pop(operator))\n",
    "            pop(operator)\n",
    "        else:\n",
    "            output+=i\n",
    "            \n",
    "    while not(isEmpty(operator)):\n",
    "        output+=(pop(operator))\n",
    "    return output\n",
    "\n",
    "print(postfix('(A+B)*(C-D)'))"
   ]
  },
  {
   "cell_type": "markdown",
   "metadata": {
    "collapsed": false
   },
   "source": [
    "##### Menghitung hasil dari postfix"
   ]
  },
  {
   "cell_type": "code",
   "execution_count": 6,
   "metadata": {
    "collapsed": false
   },
   "outputs": [
    {
     "name": "stdout",
     "output_type": "stream",
     "text": [
      "12\n"
     ]
    }
   ],
   "source": [
    "def hasilOpr(postfix):\n",
    "    st=stack()\n",
    "    hasil=0\n",
    "    for i in postfix:\n",
    "        if i=='+':\n",
    "            akhir=(pop(st))\n",
    "            hasil=pop(st)+akhir\n",
    "            push(st,hasil)\n",
    "        elif i=='-':\n",
    "            akhir=(pop(st))\n",
    "            hasil=pop(st)-akhir\n",
    "            push(st,hasil)\n",
    "        elif i=='*':\n",
    "            akhir=(pop(st))\n",
    "            hasil=akhir*pop(st)\n",
    "            push(st,hasil)\n",
    "        elif i=='/':\n",
    "            akhir=(pop(st))\n",
    "            hasil=pop(st)/akhir\n",
    "            push(st,hasil)\n",
    "        else:\n",
    "            push(st,int(i))\n",
    "    return pop(st)\n",
    "\n",
    "print(hasilOpr('242+*'))"
   ]
  },
  {
   "cell_type": "code",
   "execution_count": 0,
   "metadata": {
    "collapsed": false
   },
   "outputs": [
   ],
   "source": [
   ]
  }
 ],
 "metadata": {
  "kernelspec": {
   "display_name": "Python 3 (Ubuntu Linux)",
   "language": "python",
   "name": "python3"
  }
 },
 "nbformat": 4,
 "nbformat_minor": 0
}